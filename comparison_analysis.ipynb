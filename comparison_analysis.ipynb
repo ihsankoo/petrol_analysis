{
 "cells": [
  {
   "cell_type": "markdown",
   "metadata": {},
   "source": [
    "## Comparing the Performance of Injector Wells vs. Producer Wells"
   ]
  },
  {
   "cell_type": "code",
   "execution_count": 3,
   "metadata": {},
   "outputs": [],
   "source": [
    "import pandas as pd\n",
    "\n",
    "# Load the data from the CSV file\n",
    "df = pd.read_csv('C:\\\\Users\\\\ihsankoo\\\\Downloads\\\\Liang_Cleaned.csv')"
   ]
  },
  {
   "cell_type": "markdown",
   "metadata": {},
   "source": [
    "To compare the performance of injector wells and producer wells, we can examine key metrics like the total volume of fluid (oil, water, gas) produced or injected over the dataset's time span.\n",
    "\n",
    "Let's start by aggregating the total fluid volumes for each type of well (injector vs. producer)."
   ]
  },
  {
   "cell_type": "code",
   "execution_count": 4,
   "metadata": {},
   "outputs": [
    {
     "data": {
      "text/html": [
       "<div>\n",
       "<style scoped>\n",
       "    .dataframe tbody tr th:only-of-type {\n",
       "        vertical-align: middle;\n",
       "    }\n",
       "\n",
       "    .dataframe tbody tr th {\n",
       "        vertical-align: top;\n",
       "    }\n",
       "\n",
       "    .dataframe thead th {\n",
       "        text-align: right;\n",
       "    }\n",
       "</style>\n",
       "<table border=\"1\" class=\"dataframe\">\n",
       "  <thead>\n",
       "    <tr style=\"text-align: right;\">\n",
       "      <th></th>\n",
       "      <th>Oil Production Rate</th>\n",
       "      <th>Water Production Rate</th>\n",
       "      <th>Gas Production Rate</th>\n",
       "      <th>Water Injection Rate</th>\n",
       "      <th>Gas Injection Rate</th>\n",
       "    </tr>\n",
       "    <tr>\n",
       "      <th>Is Injector Well</th>\n",
       "      <th></th>\n",
       "      <th></th>\n",
       "      <th></th>\n",
       "      <th></th>\n",
       "      <th></th>\n",
       "    </tr>\n",
       "  </thead>\n",
       "  <tbody>\n",
       "    <tr>\n",
       "      <th>Producer</th>\n",
       "      <td>134480.99</td>\n",
       "      <td>420096.04</td>\n",
       "      <td>0</td>\n",
       "      <td>0.00</td>\n",
       "      <td>0</td>\n",
       "    </tr>\n",
       "    <tr>\n",
       "      <th>Injector</th>\n",
       "      <td>0.00</td>\n",
       "      <td>0.00</td>\n",
       "      <td>0</td>\n",
       "      <td>557997.26</td>\n",
       "      <td>0</td>\n",
       "    </tr>\n",
       "  </tbody>\n",
       "</table>\n",
       "</div>"
      ],
      "text/plain": [
       "                  Oil Production Rate  Water Production Rate  \\\n",
       "Is Injector Well                                               \n",
       "Producer                    134480.99              420096.04   \n",
       "Injector                         0.00                   0.00   \n",
       "\n",
       "                  Gas Production Rate  Water Injection Rate  \\\n",
       "Is Injector Well                                              \n",
       "Producer                            0                  0.00   \n",
       "Injector                            0             557997.26   \n",
       "\n",
       "                  Gas Injection Rate  \n",
       "Is Injector Well                      \n",
       "Producer                           0  \n",
       "Injector                           0  "
      ]
     },
     "execution_count": 4,
     "metadata": {},
     "output_type": "execute_result"
    }
   ],
   "source": [
    "# Aggregating the total fluid volumes for injector and producer wells\n",
    "total_volumes_by_type = df.groupby('Is Injector Well').agg({\n",
    "    'Oil Production Rate': 'sum',\n",
    "    'Water Production Rate': 'sum',\n",
    "    'Gas Production Rate': 'sum',\n",
    "    'Water Injection Rate': 'sum',\n",
    "    'Gas Injection Rate': 'sum'\n",
    "}).rename(index={0: 'Producer', 1: 'Injector'})\n",
    "\n",
    "total_volumes_by_type\n"
   ]
  },
  {
   "cell_type": "markdown",
   "metadata": {},
   "source": [
    "Here's the aggregated data comparing the performance of injector wells and producer wells:\n",
    "\n",
    "#### Producer Wells:\n",
    "\n",
    "* Oil Production: 134,480.99 units\n",
    "* Water Production: 420,096.04 units\n",
    "* Gas Production: 0 units (as previously observed)\n",
    "\n",
    "\n",
    "#### Injector Wells:\n",
    "\n",
    "* Water Injection: 557,997.26 units\n",
    "* Gas Injection: 0 units (as previously observed)\n",
    "\n",
    "\n",
    "#### From this data:\n",
    "\n",
    "* We can see that while producer wells have both oil and water production, injector wells only have water injection rates.\n",
    "* Producer wells do not have any gas production, and injector wells do not have any gas injection, which is consistent with our previous analyses."
   ]
  },
  {
   "cell_type": "markdown",
   "metadata": {},
   "source": []
  }
 ],
 "metadata": {
  "kernelspec": {
   "display_name": "base",
   "language": "python",
   "name": "python3"
  },
  "language_info": {
   "codemirror_mode": {
    "name": "ipython",
    "version": 3
   },
   "file_extension": ".py",
   "mimetype": "text/x-python",
   "name": "python",
   "nbconvert_exporter": "python",
   "pygments_lexer": "ipython3",
   "version": "3.9.12"
  },
  "orig_nbformat": 4
 },
 "nbformat": 4,
 "nbformat_minor": 2
}
