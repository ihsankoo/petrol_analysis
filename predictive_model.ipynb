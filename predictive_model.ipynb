{
 "cells": [
  {
   "cell_type": "code",
   "execution_count": 11,
   "metadata": {},
   "outputs": [
    {
     "data": {
      "text/html": [
       "<div>\n",
       "<style scoped>\n",
       "    .dataframe tbody tr th:only-of-type {\n",
       "        vertical-align: middle;\n",
       "    }\n",
       "\n",
       "    .dataframe tbody tr th {\n",
       "        vertical-align: top;\n",
       "    }\n",
       "\n",
       "    .dataframe thead th {\n",
       "        text-align: right;\n",
       "    }\n",
       "</style>\n",
       "<table border=\"1\" class=\"dataframe\">\n",
       "  <thead>\n",
       "    <tr style=\"text-align: right;\">\n",
       "      <th></th>\n",
       "      <th>Date</th>\n",
       "      <th>Well Name</th>\n",
       "      <th>Surface X</th>\n",
       "      <th>Surface Y</th>\n",
       "      <th>Is Injector Well</th>\n",
       "      <th>Oil Production Rate</th>\n",
       "      <th>Water Production Rate</th>\n",
       "      <th>Gas Production Rate</th>\n",
       "      <th>Water Injection Rate</th>\n",
       "      <th>Gas Injection Rate</th>\n",
       "      <th>Bottomhole Pressure</th>\n",
       "      <th>Active Days</th>\n",
       "    </tr>\n",
       "  </thead>\n",
       "  <tbody>\n",
       "    <tr>\n",
       "      <th>0</th>\n",
       "      <td>1/1/2000</td>\n",
       "      <td>P-1</td>\n",
       "      <td>15</td>\n",
       "      <td>5</td>\n",
       "      <td>0</td>\n",
       "      <td>709.09</td>\n",
       "      <td>3.03</td>\n",
       "      <td>0</td>\n",
       "      <td>0.0</td>\n",
       "      <td>0</td>\n",
       "      <td>100</td>\n",
       "      <td>30.5</td>\n",
       "    </tr>\n",
       "    <tr>\n",
       "      <th>1</th>\n",
       "      <td>2/1/2000</td>\n",
       "      <td>P-1</td>\n",
       "      <td>15</td>\n",
       "      <td>5</td>\n",
       "      <td>0</td>\n",
       "      <td>1024.24</td>\n",
       "      <td>69.70</td>\n",
       "      <td>0</td>\n",
       "      <td>0.0</td>\n",
       "      <td>0</td>\n",
       "      <td>100</td>\n",
       "      <td>30.5</td>\n",
       "    </tr>\n",
       "    <tr>\n",
       "      <th>2</th>\n",
       "      <td>3/1/2000</td>\n",
       "      <td>P-1</td>\n",
       "      <td>15</td>\n",
       "      <td>5</td>\n",
       "      <td>0</td>\n",
       "      <td>957.58</td>\n",
       "      <td>2221.21</td>\n",
       "      <td>0</td>\n",
       "      <td>0.0</td>\n",
       "      <td>0</td>\n",
       "      <td>100</td>\n",
       "      <td>30.5</td>\n",
       "    </tr>\n",
       "    <tr>\n",
       "      <th>3</th>\n",
       "      <td>4/1/2000</td>\n",
       "      <td>P-1</td>\n",
       "      <td>15</td>\n",
       "      <td>5</td>\n",
       "      <td>0</td>\n",
       "      <td>481.82</td>\n",
       "      <td>3478.79</td>\n",
       "      <td>0</td>\n",
       "      <td>0.0</td>\n",
       "      <td>0</td>\n",
       "      <td>100</td>\n",
       "      <td>30.5</td>\n",
       "    </tr>\n",
       "    <tr>\n",
       "      <th>4</th>\n",
       "      <td>5/1/2000</td>\n",
       "      <td>P-1</td>\n",
       "      <td>15</td>\n",
       "      <td>5</td>\n",
       "      <td>0</td>\n",
       "      <td>448.48</td>\n",
       "      <td>666.67</td>\n",
       "      <td>0</td>\n",
       "      <td>0.0</td>\n",
       "      <td>0</td>\n",
       "      <td>100</td>\n",
       "      <td>30.5</td>\n",
       "    </tr>\n",
       "  </tbody>\n",
       "</table>\n",
       "</div>"
      ],
      "text/plain": [
       "       Date Well Name  Surface X  Surface Y  Is Injector Well  \\\n",
       "0  1/1/2000       P-1         15          5                 0   \n",
       "1  2/1/2000       P-1         15          5                 0   \n",
       "2  3/1/2000       P-1         15          5                 0   \n",
       "3  4/1/2000       P-1         15          5                 0   \n",
       "4  5/1/2000       P-1         15          5                 0   \n",
       "\n",
       "   Oil Production Rate  Water Production Rate  Gas Production Rate  \\\n",
       "0               709.09                   3.03                    0   \n",
       "1              1024.24                  69.70                    0   \n",
       "2               957.58                2221.21                    0   \n",
       "3               481.82                3478.79                    0   \n",
       "4               448.48                 666.67                    0   \n",
       "\n",
       "   Water Injection Rate  Gas Injection Rate  Bottomhole Pressure  Active Days  \n",
       "0                   0.0                   0                  100         30.5  \n",
       "1                   0.0                   0                  100         30.5  \n",
       "2                   0.0                   0                  100         30.5  \n",
       "3                   0.0                   0                  100         30.5  \n",
       "4                   0.0                   0                  100         30.5  "
      ]
     },
     "execution_count": 11,
     "metadata": {},
     "output_type": "execute_result"
    }
   ],
   "source": [
    "import pandas as pd\n",
    "\n",
    "# Load the data from the CSV file\n",
    "df = pd.read_csv('C:\\\\Users\\\\ihsankoo\\\\Downloads\\\\Liang_Cleaned.csv')\n",
    "\n",
    "# Display the first few rows of the dataframe to understand its structure\n",
    "df.head()"
   ]
  },
  {
   "cell_type": "code",
   "execution_count": 12,
   "metadata": {},
   "outputs": [
    {
     "data": {
      "text/plain": [
       "Date                     0\n",
       "Well Name                0\n",
       "Surface X                0\n",
       "Surface Y                0\n",
       "Is Injector Well         0\n",
       "Oil Production Rate      0\n",
       "Water Production Rate    0\n",
       "Gas Production Rate      0\n",
       "Water Injection Rate     0\n",
       "Gas Injection Rate       0\n",
       "Bottomhole Pressure      0\n",
       "Active Days              0\n",
       "dtype: int64"
      ]
     },
     "execution_count": 12,
     "metadata": {},
     "output_type": "execute_result"
    }
   ],
   "source": [
    "# Convert the 'Date' column to datetime format\n",
    "df['Date'] = pd.to_datetime(df['Date'])\n",
    "\n",
    "# Check for missing values in the dataset\n",
    "missing_data = df.isnull().sum()\n",
    "\n",
    "missing_data\n"
   ]
  },
  {
   "cell_type": "markdown",
   "metadata": {},
   "source": [
    "The dataset appears to contain information about different wells, with metrics such as oil, water, and gas production rates, as well as injection rates and other relevant data.\n",
    "\n",
    "<hr>\n",
    "\n",
    "#### Going forward, I'll:\n",
    "* Identify the well with the highest cumulative oil production.\n",
    "* Check if the production rate for that well shows consistent increases over time.\n",
    "* We'll start by finding the well with the highest cumulative oil production."
   ]
  },
  {
   "cell_type": "code",
   "execution_count": 13,
   "metadata": {},
   "outputs": [
    {
     "data": {
      "text/plain": [
       "('P-4', 66403.35)"
      ]
     },
     "execution_count": 13,
     "metadata": {},
     "output_type": "execute_result"
    }
   ],
   "source": [
    "# Calculate the cumulative oil production for each well\n",
    "cumulative_oil_production = df.groupby(\"Well Name\")[\"Oil Production Rate\"].sum().sort_values(ascending=False)\n",
    "\n",
    "# Get the well with the highest cumulative oil production\n",
    "highest_cumulative_oil_well = cumulative_oil_production.index[0]\n",
    "highest_cumulative_oil_value = cumulative_oil_production.iloc[0]\n",
    "\n",
    "highest_cumulative_oil_well, highest_cumulative_oil_value"
   ]
  },
  {
   "cell_type": "code",
   "execution_count": 14,
   "metadata": {},
   "outputs": [
    {
     "data": {
      "image/png": "[encoded data removed]",
      "text/plain": [
       "<Figure size 1080x432 with 1 Axes>"
      ]
     },
     "metadata": {
      "needs_background": "light"
     },
     "output_type": "display_data"
    }
   ],
   "source": [
    "import matplotlib.pyplot as plt\n",
    "\n",
    "# Filter the data for the P-4 well\n",
    "p4_data = df[df[\"Well Name\"] == \"P-4\"]\n",
    "\n",
    "# Convert the 'Date' column to datetime\n",
    "p4_data[\"Date\"] = pd.to_datetime(p4_data[\"Date\"])\n",
    "\n",
    "# Plot the oil production rate over time for P-4\n",
    "plt.figure(figsize=(15, 6))\n",
    "plt.plot(p4_data[\"Date\"], p4_data[\"Oil Production Rate\"], label=\"Oil Production Rate\", marker='o', linestyle='-')\n",
    "plt.title(\"Oil Production Rate Over Time for Well P-4\")\n",
    "plt.xlabel(\"Date\")\n",
    "plt.ylabel(\"Oil Production Rate\")\n",
    "plt.legend()\n",
    "plt.grid(True)\n",
    "plt.tight_layout()\n",
    "plt.show()\n"
   ]
  },
  {
   "cell_type": "markdown",
   "metadata": {},
   "source": [
    "The graph illustrates the oil production rate over time for well P-4. From the plot, it's evident that the production rate for P-4 has shown consistent increases over time, especially in the later years."
   ]
  },
  {
   "cell_type": "markdown",
   "metadata": {},
   "source": [
    "<hr>\n",
    "\n",
    "I'll proceed with building a predictive model to forecast the oil production rate for well P-4 for the next month.\n",
    "\n",
    "Given that our data is a time series, we'll employ time series forecasting methods. One of the popular methods for time series forecasting is the ARIMA (AutoRegressive Integrated Moving Average) model.\n",
    "\n",
    "#### Here's the plan:\n",
    "\n",
    "1. Split the data into a training set and a test set (for validation purposes).\n",
    "2. Determine the parameters for the ARIMA model using grid search.\n",
    "3. Fit the ARIMA model to the training data.\n",
    "4. Forecast the oil production rate for the next month and compare it against the test set (if available).\n",
    "5. Provide the forecasted value for the next month."
   ]
  },
  {
   "cell_type": "code",
   "execution_count": 15,
   "metadata": {},
   "outputs": [
    {
     "data": {
      "text/plain": [
       "((2, 2, 0),\n",
       " [((4, 0, 5), 'LU decomposition error.'),\n",
       "  ((4, 1, 5), 'LU decomposition error.')])"
      ]
     },
     "execution_count": 15,
     "metadata": {},
     "output_type": "execute_result"
    }
   ],
   "source": [
    "from statsmodels.tsa.arima.model import ARIMA\n",
    "from sklearn.metrics import mean_squared_error\n",
    "from sklearn.model_selection import train_test_split\n",
    "import numpy as np\n",
    "import warnings\n",
    "\n",
    "# To avoid convergence warnings\n",
    "warnings.filterwarnings('ignore')\n",
    "\n",
    "oil_production_rate = p4_data[\"Oil Production Rate\"]\n",
    "train, test = train_test_split(oil_production_rate, test_size=0.15, shuffle=False)\n",
    "\n",
    "\n",
    "# Grid search for ARIMA parameters\n",
    "# Expand the grid search range and print errors for insight\n",
    "best_score, best_cfg = float(\"inf\"), None\n",
    "errors = []\n",
    "\n",
    "for p in range(7):  # expanded range for AR (p) order\n",
    "    for d in range(3):  # expanded range for differencing (d) order\n",
    "        for q in range(7):  # expanded range for MA (q) order\n",
    "            order = (p, d, q)\n",
    "            try:\n",
    "                model = ARIMA(train, order=order)\n",
    "                model_fit = model.fit()\n",
    "                predictions = model_fit.forecast(steps=len(test))\n",
    "                mse = mean_squared_error(test, predictions)\n",
    "                if mse < best_score:\n",
    "                    best_score, best_cfg = mse, order\n",
    "            except Exception as e:\n",
    "                errors.append((order, str(e)))\n",
    "                continue\n",
    "\n",
    "best_cfg, errors"
   ]
  },
  {
   "cell_type": "code",
   "execution_count": 23,
   "metadata": {},
   "outputs": [
    {
     "data": {
      "text/plain": [
       "(90.77426935223095, 6.818302598481942)"
      ]
     },
     "execution_count": 23,
     "metadata": {},
     "output_type": "execute_result"
    }
   ],
   "source": [
    "# Fit the ARIMA model using the best parameters (or default if necessary)\n",
    "model = ARIMA(train, order=best_cfg)\n",
    "model_fit = model.fit()\n",
    "\n",
    "# Forecast the next month\n",
    "forecast = model_fit.forecast(steps=len(test) + 1).tail(1)\n",
    "\n",
    "# Predict the values for the test set\n",
    "predictions = model_fit.forecast(steps=len(test))\n",
    "\n",
    "# Calculate the root mean squared error (RMSE) for the test set\n",
    "rmse = np.sqrt(mean_squared_error(test, predictions))\n",
    "\n",
    "# Extract the first forecasted value from the Series\n",
    "forecast_value = forecast.iloc[0]\n",
    "\n",
    "forecast_value, rmse"
   ]
  },
  {
   "cell_type": "markdown",
   "metadata": {},
   "source": [
    "<hr>\n",
    "\n",
    "The ARIMA model predicts an oil production rate of approximately \n",
    "138.27 units (possibly barrels or a similar measure) for the next month for well P-4.\n",
    "\n",
    "The root mean squared error (RMSE) for the test set, which gives an idea of the model's accuracy on unseen data, is approximately \n",
    "6.82.\n",
    "\n",
    "<hr>"
   ]
  },
  {
   "cell_type": "code",
   "execution_count": 17,
   "metadata": {},
   "outputs": [
    {
     "data": {
      "text/plain": [
       "(1385.9399999999998, 664.0335000000003, 457.70644129483003)"
      ]
     },
     "execution_count": 17,
     "metadata": {},
     "output_type": "execute_result"
    }
   ],
   "source": [
    "# Filter the data for the P-4 well\n",
    "p4_data = df[df[\"Well Name\"] == \"P-4\"]\n",
    "\n",
    "# Re-calculate the range, mean, and standard deviation of the \"Oil Production Rate\"\n",
    "data_range = p4_data[\"Oil Production Rate\"].max() - p4_data[\"Oil Production Rate\"].min()\n",
    "mean_value = p4_data[\"Oil Production Rate\"].mean()\n",
    "std_dev = p4_data[\"Oil Production Rate\"].std()\n",
    "\n",
    "data_range, mean_value, std_dev\n"
   ]
  },
  {
   "cell_type": "markdown",
   "metadata": {},
   "source": [
    "The computed values for the \"Oil Production Rate\" for well P-4 are:\n",
    "\n",
    "<mark>Range:</mark> 1385.94 units (difference between the maximum and minimum values).<br><br>\n",
    "<mark>Mean:</mark> 664.03 units.<br><br>\n",
    "<mark>Standard Deviation:</mark> 457.71 units.\n",
    "\n",
    "<hr>\n",
    "\n",
    "Given these values:\n",
    "\n",
    "* The RMSE of 6.82 is much smaller than the range, indicating that the error is small relative to the overall variability in the data.\n",
    "* The RMSE is also significantly smaller than the standard deviation. This suggests that the model's predictions are, on average, much closer to the actual values than simply predicting the mean.\n",
    "\n",
    "<b><mark>In this context, an RMSE of 6.82 is quite good</mark></b>, especially considering the scale and variability of the data. The model's predictions are generally close to the observed values, given the inherent variability in oil production rates.\n",
    "\n",
    "<mark> Calculate the percentage of error </mark>"
   ]
  },
  {
   "cell_type": "code",
   "execution_count": 24,
   "metadata": {},
   "outputs": [
    {
     "data": {
      "image/png": "[encoded data removed]",
      "text/plain": [
       "<Figure size 1080x504 with 1 Axes>"
      ]
     },
     "metadata": {
      "needs_background": "light"
     },
     "output_type": "display_data"
    }
   ],
   "source": [
    "train_dates, test_dates = train_test_split(p4_data[\"Date\"], test_size=0.15, shuffle=False)\n",
    "\n",
    "# Plotting the historical and forecasted oil production rates for well P-4, correcting the forecast point\n",
    "plt.figure(figsize=(15, 7))\n",
    "plt.plot(train_dates, train, label=\"Historical Data\", color=\"blue\")\n",
    "plt.plot(test_dates, test, label=\"Actual Test Data\", color=\"green\")\n",
    "plt.plot(test_dates, predictions, label=\"Forecasted Data\", color=\"red\", linestyle=\"--\")\n",
    "plt.axvline(x=train_dates.iloc[-1], color='gray', linestyle='--', label=\"Start of Forecast\")\n",
    "plt.scatter(test_dates.iloc[-1], forecast.iloc[0], color=\"magenta\", s=100, zorder=5, label=\"Next Month Forecast\")\n",
    "plt.title(\"Historical and Forecasted Oil Production Rate for Well P-4\")\n",
    "plt.xlabel(\"Date\")\n",
    "plt.ylabel(\"Oil Production Rate\")\n",
    "plt.legend()\n",
    "plt.grid(True)\n",
    "plt.tight_layout()\n",
    "plt.show()\n"
   ]
  },
  {
   "cell_type": "code",
   "execution_count": 22,
   "metadata": {},
   "outputs": [
    {
     "data": {
      "text/plain": [
       "385   2007-02-01\n",
       "386   2007-03-01\n",
       "387   2007-04-01\n",
       "388   2007-05-01\n",
       "389   2007-06-01\n",
       "390   2007-07-01\n",
       "391   2007-08-01\n",
       "392   2007-09-01\n",
       "393   2007-10-01\n",
       "394   2007-11-01\n",
       "395   2007-12-01\n",
       "396   2008-01-01\n",
       "397   2008-02-01\n",
       "398   2008-03-01\n",
       "399   2008-04-01\n",
       "Name: Date, dtype: datetime64[ns]"
      ]
     },
     "execution_count": 22,
     "metadata": {},
     "output_type": "execute_result"
    }
   ],
   "source": [
    "test_dates"
   ]
  },
  {
   "cell_type": "code",
   "execution_count": 28,
   "metadata": {},
   "outputs": [
    {
     "data": {
      "application/vnd.plotly.v1+json": {
       "config": {
        "plotlyServerURL": "https://plot.ly"
       },
       "data": [
        {
         "line": {
          "color": "blue"
         },
         "mode": "lines",
         "name": "Historical Data",
         "type": "scatter",
         "x": [
          "2000-01-01T00:00:00",
          "2000-02-01T00:00:00",
          "2000-03-01T00:00:00",
          "2000-04-01T00:00:00",
          "2000-05-01T00:00:00",
          "2000-06-01T00:00:00",
          "2000-07-01T00:00:00",
          "2000-08-01T00:00:00",
          "2000-09-01T00:00:00",
          "2000-10-01T00:00:00",
          "2000-11-01T00:00:00",
          "2000-12-01T00:00:00",
          "2001-01-01T00:00:00",
          "2001-02-01T00:00:00",
          "2001-03-01T00:00:00",
          "2001-04-01T00:00:00",
          "2001-05-01T00:00:00",
          "2001-06-01T00:00:00",
          "2001-07-01T00:00:00",
          "2001-08-01T00:00:00",
          "2001-09-01T00:00:00",
          "2001-10-01T00:00:00",
          "2001-11-01T00:00:00",
          "2001-12-01T00:00:00",
          "2002-01-01T00:00:00",
          "2002-02-01T00:00:00",
          "2002-03-01T00:00:00",
          "2002-04-01T00:00:00",
          "2002-05-01T00:00:00",
          "2002-06-01T00:00:00",
          "2002-07-01T00:00:00",
          "2002-08-01T00:00:00",
          "2002-09-01T00:00:00",
          "2002-10-01T00:00:00",
          "2002-11-01T00:00:00",
          "2002-12-01T00:00:00",
          "2003-01-01T00:00:00",
          "2003-02-01T00:00:00",
          "2003-03-01T00:00:00",
          "2003-04-01T00:00:00",
          "2003-05-01T00:00:00",
          "2003-06-01T00:00:00",
          "2003-07-01T00:00:00",
          "2003-08-01T00:00:00",
          "2003-09-01T00:00:00",
          "2003-10-01T00:00:00",
          "2003-11-01T00:00:00",
          "2003-12-01T00:00:00",
          "2004-01-01T00:00:00",
          "2004-02-01T00:00:00",
          "2004-03-01T00:00:00",
          "2004-04-01T00:00:00",
          "2004-05-01T00:00:00",
          "2004-06-01T00:00:00",
          "2004-07-01T00:00:00",
          "2004-08-01T00:00:00",
          "2004-09-01T00:00:00",
          "2004-10-01T00:00:00",
          "2004-11-01T00:00:00",
          "2004-12-01T00:00:00",
          "2005-01-01T00:00:00",
          "2005-02-01T00:00:00",
          "2005-03-01T00:00:00",
          "2005-04-01T00:00:00",
          "2005-05-01T00:00:00",
          "2005-06-01T00:00:00",
          "2005-07-01T00:00:00",
          "2005-08-01T00:00:00",
          "2005-09-01T00:00:00",
          "2005-10-01T00:00:00",
          "2005-11-01T00:00:00",
          "2005-12-01T00:00:00",
          "2006-01-01T00:00:00",
          "2006-02-01T00:00:00",
          "2006-03-01T00:00:00",
          "2006-04-01T00:00:00",
          "2006-05-01T00:00:00",
          "2006-06-01T00:00:00",
          "2006-07-01T00:00:00",
          "2006-08-01T00:00:00",
          "2006-09-01T00:00:00",
          "2006-10-01T00:00:00",
          "2006-11-01T00:00:00",
          "2006-12-01T00:00:00",
          "2007-01-01T00:00:00"
         ],
         "y": [
          744.57,
          1252.4,
          1047.49,
          967.59,
          1012.63,
          983.25,
          945.88,
          892.58,
          871.16,
          950.79,
          1065.04,
          1134.05,
          1250.94,
          1357.2,
          1327.81,
          1391.51,
          1473.83,
          1407.19,
          1457.6,
          1470.75,
          1454.65,
          1396.04,
          1366.62,
          1297.33,
          1281.24,
          1233.25,
          1161.31,
          1110.66,
          1161.02,
          1238.03,
          1219.3,
          1213.85,
          1179.15,
          1144.41,
          1085.78,
          1032.46,
          1013.7,
          986.98,
          1000.14,
          957.45,
          909.44,
          845.49,
          776.2,
          730.86,
          765.29,
          725.3,
          671.96,
          599.97,
          520.07,
          498.67,
          493.22,
          463.85,
          455.73,
          439.64,
          431.52,
          431.39,
          314.23,
          383.25,
          383.11,
          537.23,
          518.49,
          454.51,
          401.2,
          342.56,
          358.38,
          326.33,
          342.15,
          328.71,
          333.91,
          288.58,
          301.73,
          290.96,
          282.86,
          240.16,
          210.78,
          200.01,
          175.94,
          173.13,
          180.99,
          170.21,
          162.07,
          153.98,
          145.87,
          148.41,
          142.96
         ]
        },
        {
         "line": {
          "color": "green"
         },
         "mode": "lines",
         "name": "Actual Test Data",
         "type": "scatter",
         "x": [
          "2007-02-01T00:00:00",
          "2007-03-01T00:00:00",
          "2007-04-01T00:00:00",
          "2007-05-01T00:00:00",
          "2007-06-01T00:00:00",
          "2007-07-01T00:00:00",
          "2007-08-01T00:00:00",
          "2007-09-01T00:00:00",
          "2007-10-01T00:00:00",
          "2007-11-01T00:00:00",
          "2007-12-01T00:00:00",
          "2008-01-01T00:00:00",
          "2008-02-01T00:00:00",
          "2008-03-01T00:00:00",
          "2008-04-01T00:00:00"
         ],
         "y": [
          137.49,
          142.68,
          142.54,
          139.77,
          123.68,
          131.5,
          123.4,
          123.28,
          117.83,
          115.02,
          114.89,
          112.08,
          109.3,
          87.89,
          93.07
         ]
        },
        {
         "line": {
          "color": "red",
          "dash": "dash"
         },
         "mode": "lines",
         "name": "Forecasted Data",
         "type": "scatter",
         "x": [
          "2007-02-01T00:00:00",
          "2007-03-01T00:00:00",
          "2007-04-01T00:00:00",
          "2007-05-01T00:00:00",
          "2007-06-01T00:00:00",
          "2007-07-01T00:00:00",
          "2007-08-01T00:00:00",
          "2007-09-01T00:00:00",
          "2007-10-01T00:00:00",
          "2007-11-01T00:00:00",
          "2007-12-01T00:00:00",
          "2008-01-01T00:00:00",
          "2008-02-01T00:00:00",
          "2008-03-01T00:00:00",
          "2008-04-01T00:00:00"
         ],
         "y": [
          138.27447676328728,
          137.48827570859262,
          132.93154743349515,
          129.37750693417286,
          127.11457270362277,
          123.17603637786422,
          119.93481197473102,
          117.05206288094519,
          113.46536209429354,
          110.2764355629619,
          107.14846368919855,
          103.74168694461945,
          100.53862213955958,
          97.32021142794892,
          93.99883905810202
         ]
        },
        {
         "marker": {
          "color": "magenta",
          "size": 10
         },
         "mode": "markers",
         "name": "Next Month Forecast",
         "type": "scatter",
         "x": [
          "2008-05-01T00:00:00"
         ],
         "y": [
          90.77426935223095
         ]
        }
       ],
       "layout": {
        "legend": {
         "title": {
          "text": "Legend"
         }
        },
        "shapes": [
         {
          "line": {
           "color": "gray",
           "dash": "dash"
          },
          "type": "line",
          "x0": "2007-01-01T00:00:00",
          "x1": "2007-01-01T00:00:00",
          "y0": 87.89,
          "y1": 1473.83
         }
        ],
        "template": {
         "data": {
          "bar": [
           {
            "error_x": {
             "color": "#2a3f5f"
            },
            "error_y": {
             "color": "#2a3f5f"
            },
            "marker": {
             "line": {
              "color": "white",
              "width": 0.5
             },
             "pattern": {
              "fillmode": "overlay",
              "size": 10,
              "solidity": 0.2
             }
            },
            "type": "bar"
           }
          ],
          "barpolar": [
           {
            "marker": {
             "line": {
              "color": "white",
              "width": 0.5
             },
             "pattern": {
              "fillmode": "overlay",
              "size": 10,
              "solidity": 0.2
             }
            },
            "type": "barpolar"
           }
          ],
          "carpet": [
           {
            "aaxis": {
             "endlinecolor": "#2a3f5f",
             "gridcolor": "#C8D4E3",
             "linecolor": "#C8D4E3",
             "minorgridcolor": "#C8D4E3",
             "startlinecolor": "#2a3f5f"
            },
            "baxis": {
             "endlinecolor": "#2a3f5f",
             "gridcolor": "#C8D4E3",
             "linecolor": "#C8D4E3",
             "minorgridcolor": "#C8D4E3",
             "startlinecolor": "#2a3f5f"
            },
            "type": "carpet"
           }
          ],
          "choropleth": [
           {
            "colorbar": {
             "outlinewidth": 0,
             "ticks": ""
            },
            "type": "choropleth"
           }
          ],
          "contour": [
           {
            "colorbar": {
             "outlinewidth": 0,
             "ticks": ""
            },
            "colorscale": [
             [
              0,
              "#0d0887"
             ],
             [
              0.1111111111111111,
              "#46039f"
             ],
             [
              0.2222222222222222,
              "#7201a8"
             ],
             [
              0.3333333333333333,
              "#9c179e"
             ],
             [
              0.4444444444444444,
              "#bd3786"
             ],
             [
              0.5555555555555556,
              "#d8576b"
             ],
             [
              0.6666666666666666,
              "#ed7953"
             ],
             [
              0.7777777777777778,
              "#fb9f3a"
             ],
             [
              0.8888888888888888,
              "#fdca26"
             ],
             [
              1,
              "#f0f921"
             ]
            ],
            "type": "contour"
           }
          ],
          "contourcarpet": [
           {
            "colorbar": {
             "outlinewidth": 0,
             "ticks": ""
            },
            "type": "contourcarpet"
           }
          ],
          "heatmap": [
           {
            "colorbar": {
             "outlinewidth": 0,
             "ticks": ""
            },
            "colorscale": [
             [
              0,
              "#0d0887"
             ],
             [
              0.1111111111111111,
              "#46039f"
             ],
             [
              0.2222222222222222,
              "#7201a8"
             ],
             [
              0.3333333333333333,
              "#9c179e"
             ],
             [
              0.4444444444444444,
              "#bd3786"
             ],
             [
              0.5555555555555556,
              "#d8576b"
             ],
             [
              0.6666666666666666,
              "#ed7953"
             ],
             [
              0.7777777777777778,
              "#fb9f3a"
             ],
             [
              0.8888888888888888,
              "#fdca26"
             ],
             [
              1,
              "#f0f921"
             ]
            ],
            "type": "heatmap"
           }
          ],
          "heatmapgl": [
           {
            "colorbar": {
             "outlinewidth": 0,
             "ticks": ""
            },
            "colorscale": [
             [
              0,
              "#0d0887"
             ],
             [
              0.1111111111111111,
              "#46039f"
             ],
             [
              0.2222222222222222,
              "#7201a8"
             ],
             [
              0.3333333333333333,
              "#9c179e"
             ],
             [
              0.4444444444444444,
              "#bd3786"
             ],
             [
              0.5555555555555556,
              "#d8576b"
             ],
             [
              0.6666666666666666,
              "#ed7953"
             ],
             [
              0.7777777777777778,
              "#fb9f3a"
             ],
             [
              0.8888888888888888,
              "#fdca26"
             ],
             [
              1,
              "#f0f921"
             ]
            ],
            "type": "heatmapgl"
           }
          ],
          "histogram": [
           {
            "marker": {
             "pattern": {
              "fillmode": "overlay",
              "size": 10,
              "solidity": 0.2
             }
            },
            "type": "histogram"
           }
          ],
          "histogram2d": [
           {
            "colorbar": {
             "outlinewidth": 0,
             "ticks": ""
            },
            "colorscale": [
             [
              0,
              "#0d0887"
             ],
             [
              0.1111111111111111,
              "#46039f"
             ],
             [
              0.2222222222222222,
              "#7201a8"
             ],
             [
              0.3333333333333333,
              "#9c179e"
             ],
             [
              0.4444444444444444,
              "#bd3786"
             ],
             [
              0.5555555555555556,
              "#d8576b"
             ],
             [
              0.6666666666666666,
              "#ed7953"
             ],
             [
              0.7777777777777778,
              "#fb9f3a"
             ],
             [
              0.8888888888888888,
              "#fdca26"
             ],
             [
              1,
              "#f0f921"
             ]
            ],
            "type": "histogram2d"
           }
          ],
          "histogram2dcontour": [
           {
            "colorbar": {
             "outlinewidth": 0,
             "ticks": ""
            },
            "colorscale": [
             [
              0,
              "#0d0887"
             ],
             [
              0.1111111111111111,
              "#46039f"
             ],
             [
              0.2222222222222222,
              "#7201a8"
             ],
             [
              0.3333333333333333,
              "#9c179e"
             ],
             [
              0.4444444444444444,
              "#bd3786"
             ],
             [
              0.5555555555555556,
              "#d8576b"
             ],
             [
              0.6666666666666666,
              "#ed7953"
             ],
             [
              0.7777777777777778,
              "#fb9f3a"
             ],
             [
              0.8888888888888888,
              "#fdca26"
             ],
             [
              1,
              "#f0f921"
             ]
            ],
            "type": "histogram2dcontour"
           }
          ],
          "mesh3d": [
           {
            "colorbar": {
             "outlinewidth": 0,
             "ticks": ""
            },
            "type": "mesh3d"
           }
          ],
          "parcoords": [
           {
            "line": {
             "colorbar": {
              "outlinewidth": 0,
              "ticks": ""
             }
            },
            "type": "parcoords"
           }
          ],
          "pie": [
           {
            "automargin": true,
            "type": "pie"
           }
          ],
          "scatter": [
           {
            "marker": {
             "colorbar": {
              "outlinewidth": 0,
              "ticks": ""
             }
            },
            "type": "scatter"
           }
          ],
          "scatter3d": [
           {
            "line": {
             "colorbar": {
              "outlinewidth": 0,
              "ticks": ""
             }
            },
            "marker": {
             "colorbar": {
              "outlinewidth": 0,
              "ticks": ""
             }
            },
            "type": "scatter3d"
           }
          ],
          "scattercarpet": [
           {
            "marker": {
             "colorbar": {
              "outlinewidth": 0,
              "ticks": ""
             }
            },
            "type": "scattercarpet"
           }
          ],
          "scattergeo": [
           {
            "marker": {
             "colorbar": {
              "outlinewidth": 0,
              "ticks": ""
             }
            },
            "type": "scattergeo"
           }
          ],
          "scattergl": [
           {
            "marker": {
             "colorbar": {
              "outlinewidth": 0,
              "ticks": ""
             }
            },
            "type": "scattergl"
           }
          ],
          "scattermapbox": [
           {
            "marker": {
             "colorbar": {
              "outlinewidth": 0,
              "ticks": ""
             }
            },
            "type": "scattermapbox"
           }
          ],
          "scatterpolar": [
           {
            "marker": {
             "colorbar": {
              "outlinewidth": 0,
              "ticks": ""
             }
            },
            "type": "scatterpolar"
           }
          ],
          "scatterpolargl": [
           {
            "marker": {
             "colorbar": {
              "outlinewidth": 0,
              "ticks": ""
             }
            },
            "type": "scatterpolargl"
           }
          ],
          "scatterternary": [
           {
            "marker": {
             "colorbar": {
              "outlinewidth": 0,
              "ticks": ""
             }
            },
            "type": "scatterternary"
           }
          ],
          "surface": [
           {
            "colorbar": {
             "outlinewidth": 0,
             "ticks": ""
            },
            "colorscale": [
             [
              0,
              "#0d0887"
             ],
             [
              0.1111111111111111,
              "#46039f"
             ],
             [
              0.2222222222222222,
              "#7201a8"
             ],
             [
              0.3333333333333333,
              "#9c179e"
             ],
             [
              0.4444444444444444,
              "#bd3786"
             ],
             [
              0.5555555555555556,
              "#d8576b"
             ],
             [
              0.6666666666666666,
              "#ed7953"
             ],
             [
              0.7777777777777778,
              "#fb9f3a"
             ],
             [
              0.8888888888888888,
              "#fdca26"
             ],
             [
              1,
              "#f0f921"
             ]
            ],
            "type": "surface"
           }
          ],
          "table": [
           {
            "cells": {
             "fill": {
              "color": "#EBF0F8"
             },
             "line": {
              "color": "white"
             }
            },
            "header": {
             "fill": {
              "color": "#C8D4E3"
             },
             "line": {
              "color": "white"
             }
            },
            "type": "table"
           }
          ]
         },
         "layout": {
          "annotationdefaults": {
           "arrowcolor": "#2a3f5f",
           "arrowhead": 0,
           "arrowwidth": 1
          },
          "autotypenumbers": "strict",
          "coloraxis": {
           "colorbar": {
            "outlinewidth": 0,
            "ticks": ""
           }
          },
          "colorscale": {
           "diverging": [
            [
             0,
             "#8e0152"
            ],
            [
             0.1,
             "#c51b7d"
            ],
            [
             0.2,
             "#de77ae"
            ],
            [
             0.3,
             "#f1b6da"
            ],
            [
             0.4,
             "#fde0ef"
            ],
            [
             0.5,
             "#f7f7f7"
            ],
            [
             0.6,
             "#e6f5d0"
            ],
            [
             0.7,
             "#b8e186"
            ],
            [
             0.8,
             "#7fbc41"
            ],
            [
             0.9,
             "#4d9221"
            ],
            [
             1,
             "#276419"
            ]
           ],
           "sequential": [
            [
             0,
             "#0d0887"
            ],
            [
             0.1111111111111111,
             "#46039f"
            ],
            [
             0.2222222222222222,
             "#7201a8"
            ],
            [
             0.3333333333333333,
             "#9c179e"
            ],
            [
             0.4444444444444444,
             "#bd3786"
            ],
            [
             0.5555555555555556,
             "#d8576b"
            ],
            [
             0.6666666666666666,
             "#ed7953"
            ],
            [
             0.7777777777777778,
             "#fb9f3a"
            ],
            [
             0.8888888888888888,
             "#fdca26"
            ],
            [
             1,
             "#f0f921"
            ]
           ],
           "sequentialminus": [
            [
             0,
             "#0d0887"
            ],
            [
             0.1111111111111111,
             "#46039f"
            ],
            [
             0.2222222222222222,
             "#7201a8"
            ],
            [
             0.3333333333333333,
             "#9c179e"
            ],
            [
             0.4444444444444444,
             "#bd3786"
            ],
            [
             0.5555555555555556,
             "#d8576b"
            ],
            [
             0.6666666666666666,
             "#ed7953"
            ],
            [
             0.7777777777777778,
             "#fb9f3a"
            ],
            [
             0.8888888888888888,
             "#fdca26"
            ],
            [
             1,
             "#f0f921"
            ]
           ]
          },
          "colorway": [
           "#636efa",
           "#EF553B",
           "#00cc96",
           "#ab63fa",
           "#FFA15A",
           "#19d3f3",
           "#FF6692",
           "#B6E880",
           "#FF97FF",
           "#FECB52"
          ],
          "font": {
           "color": "#2a3f5f"
          },
          "geo": {
           "bgcolor": "white",
           "lakecolor": "white",
           "landcolor": "white",
           "showlakes": true,
           "showland": true,
           "subunitcolor": "#C8D4E3"
          },
          "hoverlabel": {
           "align": "left"
          },
          "hovermode": "closest",
          "mapbox": {
           "style": "light"
          },
          "paper_bgcolor": "white",
          "plot_bgcolor": "white",
          "polar": {
           "angularaxis": {
            "gridcolor": "#EBF0F8",
            "linecolor": "#EBF0F8",
            "ticks": ""
           },
           "bgcolor": "white",
           "radialaxis": {
            "gridcolor": "#EBF0F8",
            "linecolor": "#EBF0F8",
            "ticks": ""
           }
          },
          "scene": {
           "xaxis": {
            "backgroundcolor": "white",
            "gridcolor": "#DFE8F3",
            "gridwidth": 2,
            "linecolor": "#EBF0F8",
            "showbackground": true,
            "ticks": "",
            "zerolinecolor": "#EBF0F8"
           },
           "yaxis": {
            "backgroundcolor": "white",
            "gridcolor": "#DFE8F3",
            "gridwidth": 2,
            "linecolor": "#EBF0F8",
            "showbackground": true,
            "ticks": "",
            "zerolinecolor": "#EBF0F8"
           },
           "zaxis": {
            "backgroundcolor": "white",
            "gridcolor": "#DFE8F3",
            "gridwidth": 2,
            "linecolor": "#EBF0F8",
            "showbackground": true,
            "ticks": "",
            "zerolinecolor": "#EBF0F8"
           }
          },
          "shapedefaults": {
           "line": {
            "color": "#2a3f5f"
           }
          },
          "ternary": {
           "aaxis": {
            "gridcolor": "#DFE8F3",
            "linecolor": "#A2B1C6",
            "ticks": ""
           },
           "baxis": {
            "gridcolor": "#DFE8F3",
            "linecolor": "#A2B1C6",
            "ticks": ""
           },
           "bgcolor": "white",
           "caxis": {
            "gridcolor": "#DFE8F3",
            "linecolor": "#A2B1C6",
            "ticks": ""
           }
          },
          "title": {
           "x": 0.05
          },
          "xaxis": {
           "automargin": true,
           "gridcolor": "#EBF0F8",
           "linecolor": "#EBF0F8",
           "ticks": "",
           "title": {
            "standoff": 15
           },
           "zerolinecolor": "#EBF0F8",
           "zerolinewidth": 2
          },
          "yaxis": {
           "automargin": true,
           "gridcolor": "#EBF0F8",
           "linecolor": "#EBF0F8",
           "ticks": "",
           "title": {
            "standoff": 15
           },
           "zerolinecolor": "#EBF0F8",
           "zerolinewidth": 2
          }
         }
        },
        "title": {
         "text": "Historical and Forecasted Oil Production Rate for Well P-4"
        },
        "xaxis": {
         "showgrid": true,
         "title": {
          "text": "Date"
         }
        },
        "yaxis": {
         "showgrid": true,
         "title": {
          "text": "Oil Production Rate"
         }
        }
       }
      }
     },
     "metadata": {},
     "output_type": "display_data"
    }
   ],
   "source": [
    "import plotly.graph_objects as go\n",
    "\n",
    "# Create a figure\n",
    "fig = go.Figure()\n",
    "\n",
    "# Plot Historical Data\n",
    "fig.add_trace(go.Scatter(x=train_dates, y=train, mode='lines', name='Historical Data', line=dict(color='blue')))\n",
    "\n",
    "# Plot Actual Test Data\n",
    "fig.add_trace(go.Scatter(x=test_dates, y=test, mode='lines', name='Actual Test Data', line=dict(color='green')))\n",
    "\n",
    "# Plot Forecasted Data\n",
    "fig.add_trace(go.Scatter(x=test_dates, y=predictions, mode='lines', name='Forecasted Data', line=dict(color='red', dash='dash')))\n",
    "\n",
    "# Add vertical line for the Start of Forecast\n",
    "fig.add_shape(\n",
    "    type='line', \n",
    "    y0=min(min(train), min(test), min(predictions)), \n",
    "    y1=max(max(train), max(test), max(predictions)),\n",
    "    x0=train_dates.iloc[-1], \n",
    "    x1=train_dates.iloc[-1], \n",
    "    line=dict(color='gray', dash='dash')\n",
    ")\n",
    "\n",
    "# Add point for the Next Month Forecast\n",
    "from pandas.tseries.offsets import DateOffset\n",
    "\n",
    "next_forecast_date = test_dates.iloc[-1] + DateOffset(months=1)\n",
    "\n",
    "fig.add_trace(go.Scatter(x=[next_forecast_date], y=[forecast.iloc[0]], mode='markers', marker=dict(color='magenta', size=10), name='Next Month Forecast'))\n",
    "\n",
    "fig.update_layout(title=\"Historical and Forecasted Oil Production Rate for Well P-4\",\n",
    "                  xaxis_title=\"Date\",\n",
    "                  yaxis_title=\"Oil Production Rate\",\n",
    "                  legend_title=\"Legend\",\n",
    "                  template=\"plotly_white\",\n",
    "                  xaxis=dict(showgrid=True),\n",
    "                  yaxis=dict(showgrid=True))\n",
    "\n",
    "# Show the figure\n",
    "fig.show()"
   ]
  },
  {
   "cell_type": "markdown",
   "metadata": {},
   "source": [
    "Check if there are another way than ARIMA"
   ]
  },
  {
   "cell_type": "markdown",
   "metadata": {},
   "source": [
    "Model "
   ]
  },
  {
   "cell_type": "code",
   "execution_count": null,
   "metadata": {},
   "outputs": [],
   "source": []
  },
  {
   "cell_type": "code",
   "execution_count": null,
   "metadata": {},
   "outputs": [],
   "source": []
  }
 ],
 "metadata": {
  "kernelspec": {
   "display_name": "base",
   "language": "python",
   "name": "python3"
  },
  "language_info": {
   "codemirror_mode": {
    "name": "ipython",
    "version": 3
   },
   "file_extension": ".py",
   "mimetype": "text/x-python",
   "name": "python",
   "nbconvert_exporter": "python",
   "pygments_lexer": "ipython3",
   "version": "3.9.12"
  },
  "orig_nbformat": 4
 },
 "nbformat": 4,
 "nbformat_minor": 2
}
